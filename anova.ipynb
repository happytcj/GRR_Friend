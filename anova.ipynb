{
 "cells": [
  {
   "cell_type": "code",
   "execution_count": 3,
   "metadata": {
    "collapsed": false
   },
   "outputs": [],
   "source": [
    "%load_ext autoreload\n",
    "%autoreload 2\n",
    "\n",
    "from enumerate_datasets import *\n",
    "from import_csv import *"
   ]
  },
  {
   "cell_type": "code",
   "execution_count": 5,
   "metadata": {
    "collapsed": false
   },
   "outputs": [
    {
     "name": "stdout",
     "output_type": "stream",
     "text": [
      "2 datasets found\n"
     ]
    }
   ],
   "source": [
    "dataset_paths = enumerate_datasets('.')\n",
    "print('%d datasets found' %len(dataset_paths))"
   ]
  },
  {
   "cell_type": "code",
   "execution_count": 6,
   "metadata": {
    "collapsed": true
   },
   "outputs": [],
   "source": [
    "for path in dataset_paths:\n",
    "    import_csv(path)"
   ]
  },
  {
   "cell_type": "code",
   "execution_count": 12,
   "metadata": {
    "collapsed": false
   },
   "outputs": [
    {
     "name": "stdout",
     "output_type": "stream",
     "text": [
      "./op1.csv\n",
      "-5.528\n",
      "1.566\n",
      "-3.805\n",
      "5.464\n",
      "6.756\n",
      "-9.071\n",
      "11.635\n",
      "-11.929\n",
      "8.022\n",
      "-7.669\n",
      "./op2.csv\n",
      "-5.528\n",
      "1.566\n",
      "-3.805\n",
      "5.464\n",
      "6.756\n",
      "-9.071\n",
      "11.635\n",
      "-11.929\n",
      "8.022\n",
      "-7.669\n",
      "grand mean is -0.455900\n"
     ]
    }
   ],
   "source": [
    "#calculate grand mean\n",
    "accumulator = 0;\n",
    "count = 0;\n",
    "\n",
    "for path in dataset_paths:\n",
    "    print path\n",
    "    con = sqlite3.connect(path.replace('.csv', '.db'))\n",
    "    c = con.cursor()\n",
    "    c.execute(\"\"\"SELECT result FROM data\"\"\")\n",
    "    for value in c.fetchall():\n",
    "        print value[0]\n",
    "        accumulator += value[0]\n",
    "        count += 1\n",
    "\n",
    "gm = accumulator / count\n",
    "print ('grand mean is %f' %gm)"
   ]
  },
  {
   "cell_type": "code",
   "execution_count": null,
   "metadata": {
    "collapsed": false
   },
   "outputs": [],
   "source": []
  },
  {
   "cell_type": "code",
   "execution_count": null,
   "metadata": {
    "collapsed": false
   },
   "outputs": [],
   "source": [
    "for value in c.fetchall():\n",
    "    print value"
   ]
  },
  {
   "cell_type": "code",
   "execution_count": null,
   "metadata": {
    "collapsed": true
   },
   "outputs": [],
   "source": [
    "#define interface at this step"
   ]
  }
 ],
 "metadata": {
  "kernelspec": {
   "display_name": "Python 2",
   "language": "python",
   "name": "python2"
  },
  "language_info": {
   "codemirror_mode": {
    "name": "ipython",
    "version": 2
   },
   "file_extension": ".py",
   "mimetype": "text/x-python",
   "name": "python",
   "nbconvert_exporter": "python",
   "pygments_lexer": "ipython2",
   "version": "2.7.10"
  }
 },
 "nbformat": 4,
 "nbformat_minor": 0
}
