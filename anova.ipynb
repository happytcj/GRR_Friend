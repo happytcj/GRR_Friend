{
 "cells": [
  {
   "cell_type": "code",
   "execution_count": 1,
   "metadata": {
    "collapsed": false
   },
   "outputs": [],
   "source": [
    "%load_ext autoreload\n",
    "%autoreload 2\n",
    "\n",
    "from enumerate_datasets import *\n",
    "from import_csv import *"
   ]
  },
  {
   "cell_type": "code",
   "execution_count": 2,
   "metadata": {
    "collapsed": false
   },
   "outputs": [
    {
     "name": "stdout",
     "output_type": "stream",
     "text": [
      "2 datasets found\n"
     ]
    }
   ],
   "source": [
    "dataset_paths = enumerate_datasets('.')\n",
    "print('%d datasets found' %len(dataset_paths))"
   ]
  },
  {
   "cell_type": "code",
   "execution_count": 3,
   "metadata": {
    "collapsed": true
   },
   "outputs": [],
   "source": [
    "for path in dataset_paths:\n",
    "    import_csv(path)"
   ]
  },
  {
   "cell_type": "code",
   "execution_count": 4,
   "metadata": {
    "collapsed": true
   },
   "outputs": [],
   "source": [
    "def cursor_for_filter(path, filter):\n",
    "    con = sqlite3.connect(path.replace('.csv', '.db'))\n",
    "    c = con.cursor()\n",
    "    c.execute(filter)\n",
    "    return c"
   ]
  },
  {
   "cell_type": "code",
   "execution_count": 5,
   "metadata": {
    "collapsed": true
   },
   "outputs": [],
   "source": [
    "accumulator = 0;\n",
    "count = 0;"
   ]
  },
  {
   "cell_type": "code",
   "execution_count": 6,
   "metadata": {
    "collapsed": false
   },
   "outputs": [],
   "source": [
    "def reset_gvars():\n",
    "    global accumulator\n",
    "    accumulator = 0;\n",
    "    global count\n",
    "    count = 0;"
   ]
  },
  {
   "cell_type": "code",
   "execution_count": 7,
   "metadata": {
    "collapsed": false
   },
   "outputs": [
    {
     "name": "stdout",
     "output_type": "stream",
     "text": [
      "./op1.csv\n",
      "./op2.csv\n",
      "grand mean is -3.355800\n"
     ]
    }
   ],
   "source": [
    "#calculate grand mean\n",
    "\n",
    "for path in dataset_paths:\n",
    "    print path\n",
    "    c = cursor_for_filter(path, \"\"\"SELECT result FROM data\"\"\")\n",
    "    for value in c.fetchall():\n",
    "        accumulator += value[0]\n",
    "        count += 1\n",
    "\n",
    "gm = accumulator / count\n",
    "print ('grand mean is %f' %gm)"
   ]
  },
  {
   "cell_type": "code",
   "execution_count": 8,
   "metadata": {
    "collapsed": false,
    "scrolled": true
   },
   "outputs": [
    {
     "name": "stdout",
     "output_type": "stream",
     "text": [
      "op mean is -6.255700\n",
      "op mean is -0.455900\n"
     ]
    }
   ],
   "source": [
    "#calculate same OP means\n",
    "reset_gvars()\n",
    "opm = []\n",
    "\n",
    "for idx, path in enumerate(dataset_paths):\n",
    "    c = cursor_for_filter(path, \"\"\"SELECT result FROM data\"\"\")\n",
    "\n",
    "    for value in c.fetchall():\n",
    "        accumulator += value[0]\n",
    "        count += 1\n",
    "\n",
    "    opm.append(accumulator / count) \n",
    "    print ('op mean is %f' %opm[-1])\n",
    "    reset_gvars()"
   ]
  },
  {
   "cell_type": "code",
   "execution_count": 9,
   "metadata": {
    "collapsed": false
   },
   "outputs": [
    {
     "name": "stdout",
     "output_type": "stream",
     "text": [
      "[-6.19275, -2.6134999999999997, -1.2932499999999998, -2.0925000000000002, -4.587]\n"
     ]
    }
   ],
   "source": [
    "#calculate mean for same part ID; need to query across dbs\n",
    "reset_gvars()\n",
    "snm = []\n",
    "\n",
    "c = cursor_for_filter(dataset_paths[0], \"\"\"select distinct sn, count(sn) as CountOf from data group by sn\"\"\")\n",
    "sns = c.fetchall()\n",
    "num_sn = len(sns)\n",
    "\n",
    "for sn in sns:\n",
    "    for idx, path in enumerate(dataset_paths):\n",
    "        c = cursor_for_filter(path, \"\"\"select result from data where sn = %s\"\"\" %sn[0])\n",
    "        for value in c.fetchall():\n",
    "            accumulator += value[0]\n",
    "            count += 1\n",
    "    snm.append(accumulator / count)\n",
    "    reset_gvars()\n",
    "\n",
    "print snm\n"
   ]
  },
  {
   "cell_type": "code",
   "execution_count": 10,
   "metadata": {
    "collapsed": false
   },
   "outputs": [],
   "source": [
    "'''calculate mean for the same function: \n",
    "all measurements with the same part and operator ID’s;\n",
    "represents repeatability.'''\n",
    "reset_gvars()\n",
    "fm = []\n",
    "fm_lin = []\n",
    "fm_part = []\n",
    "\n",
    "for path in dataset_paths:\n",
    "    \n",
    "    for sn in sns:\n",
    "        c = cursor_for_filter(path, \"\"\"select result from data where sn = %s\"\"\" %sn[0])\n",
    "        for value in c.fetchall():\n",
    "            accumulator += value[0]\n",
    "            count += 1\n",
    "        mean = accumulator / count\n",
    "        fm_part.append(mean)\n",
    "        for i in range(len(dataset_paths)):\n",
    "            fm_lin.append(mean)\n",
    "        reset_gvars()\n",
    "        \n",
    "    fm.append(fm_part)\n",
    "    fm_part = []\n",
    "    reset_gvars()"
   ]
  },
  {
   "cell_type": "code",
   "execution_count": 11,
   "metadata": {
    "collapsed": false
   },
   "outputs": [],
   "source": [
    "c = cursor_for_filter(path, \"\"\"select COUNT(*) from data where sn = %s\"\"\" %sn[0])\n",
    "num_tests = c.fetchone()[0]"
   ]
  },
  {
   "cell_type": "code",
   "execution_count": 12,
   "metadata": {
    "collapsed": false
   },
   "outputs": [],
   "source": [
    "#calculate square difference btw means\n",
    "def sd(x):\n",
    "    return pow(x - gm, 2)\n",
    "\n",
    "opsd = map(sd, opm)\n",
    "snsd = map(sd, snm)"
   ]
  },
  {
   "cell_type": "code",
   "execution_count": 13,
   "metadata": {
    "collapsed": true
   },
   "outputs": [],
   "source": [
    "def recursive_len(item):\n",
    "    if type(item) == list:\n",
    "        return sum(recursive_len(subitem) for subitem in item)\n",
    "    else:\n",
    "        return 1"
   ]
  },
  {
   "cell_type": "code",
   "execution_count": 14,
   "metadata": {
    "collapsed": false
   },
   "outputs": [
    {
     "name": "stdout",
     "output_type": "stream",
     "text": [
      "./op1.csv\n",
      "./op2.csv\n"
     ]
    }
   ],
   "source": [
    "#read in all the values from every dataset\n",
    "reset_gvars()\n",
    "every_value = []\n",
    "for path in dataset_paths:\n",
    "    print path\n",
    "    c = cursor_for_filter(path, \"\"\"SELECT result FROM data\"\"\")\n",
    "    for value in c.fetchall():\n",
    "        every_value.append(value[0])\n",
    "        \n",
    "evsd = map(sd, every_value)"
   ]
  },
  {
   "cell_type": "code",
   "execution_count": 15,
   "metadata": {
    "collapsed": false,
    "scrolled": true
   },
   "outputs": [],
   "source": [
    "idx = 0\n",
    "fsd = []\n",
    "for idx, value in enumerate(fm_lin):\n",
    "    tmp = every_value[idx] - fm_lin[idx]\n",
    "    fsd.append(pow(tmp,2))"
   ]
  },
  {
   "cell_type": "code",
   "execution_count": 41,
   "metadata": {
    "collapsed": false
   },
   "outputs": [],
   "source": [
    "#sum each of the squared differences\n",
    "def ss(x):\n",
    "    return sum(x) * len(every_value) / len(x)\n",
    "\n",
    "op_ss = ss(opsd)\n",
    "sn_ss = ss(snsd)\n",
    "ev_ss = ss(evsd)\n",
    "rep_ss  = ss(fsd)"
   ]
  },
  {
   "cell_type": "code",
   "execution_count": 42,
   "metadata": {
    "collapsed": true
   },
   "outputs": [],
   "source": [
    "sn_op_ss = ev_ss - f_ss - sn_ss - op_ss"
   ]
  },
  {
   "cell_type": "code",
   "execution_count": 43,
   "metadata": {
    "collapsed": true
   },
   "outputs": [],
   "source": [
    "num_op = len(dataset_paths)\n",
    "\n",
    "#calculate degrees of freedom\n",
    "df_sn = num_sn - 1\n",
    "df_op = num_op - 1\n",
    "df_rep = num_sn * num_op  * (num_tests - 1)\n",
    "df_total = num_sn * num_op * num_tests - 1\n",
    "df_sn_op = (num_sn - 1) * (num_op - 1)"
   ]
  },
  {
   "cell_type": "code",
   "execution_count": 45,
   "metadata": {
    "collapsed": false
   },
   "outputs": [],
   "source": [
    "#calculate mean squared difference for each factor\n",
    "msd_op = op_ss / df_op\n",
    "msd_sn = sn_ss / df_sn\n",
    "msd_rep = rep_ss / df_rep\n",
    "msd_sn_op = sn_op_ss / df_sn_op"
   ]
  },
  {
   "cell_type": "code",
   "execution_count": 46,
   "metadata": {
    "collapsed": false
   },
   "outputs": [],
   "source": [
    "f_stat = msd_sn_op / msd_rep"
   ]
  },
  {
   "cell_type": "code",
   "execution_count": 47,
   "metadata": {
    "collapsed": false
   },
   "outputs": [],
   "source": [
    "#calculate significance of part operator interaction\n",
    "from scipy.stats import f\n",
    "f_prob = 1 - f.cdf(f_stat, df_sn_op, df_rep)\n",
    "alpha = 0.25"
   ]
  },
  {
   "cell_type": "code",
   "execution_count": null,
   "metadata": {
    "collapsed": true
   },
   "outputs": [],
   "source": [
    "#decide whether to include part operator interaction in the model\n",
    "if f_prob > alpha:\n",
    "    rep_ss = ev_ss - sn_ss - op_ss\n",
    "    "
   ]
  },
  {
   "cell_type": "code",
   "execution_count": 19,
   "metadata": {
    "collapsed": true
   },
   "outputs": [],
   "source": [
    "#define interface at this step"
   ]
  },
  {
   "cell_type": "code",
   "execution_count": null,
   "metadata": {
    "collapsed": true
   },
   "outputs": [],
   "source": []
  }
 ],
 "metadata": {
  "kernelspec": {
   "display_name": "Python 2",
   "language": "python",
   "name": "python2"
  },
  "language_info": {
   "codemirror_mode": {
    "name": "ipython",
    "version": 2
   },
   "file_extension": ".py",
   "mimetype": "text/x-python",
   "name": "python",
   "nbconvert_exporter": "python",
   "pygments_lexer": "ipython2",
   "version": "2.7.10"
  }
 },
 "nbformat": 4,
 "nbformat_minor": 0
}
