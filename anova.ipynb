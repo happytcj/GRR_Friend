{
 "cells": [
  {
   "cell_type": "code",
   "execution_count": 1,
   "metadata": {
    "collapsed": false
   },
   "outputs": [],
   "source": [
    "%load_ext autoreload\n",
    "%autoreload 2\n",
    "\n",
    "from enumerate_datasets import *\n",
    "from import_csv import *"
   ]
  },
  {
   "cell_type": "code",
   "execution_count": 2,
   "metadata": {
    "collapsed": false
   },
   "outputs": [
    {
     "name": "stdout",
     "output_type": "stream",
     "text": [
      "2 datasets found\n"
     ]
    }
   ],
   "source": [
    "dataset_paths = enumerate_datasets('.')\n",
    "print('%d datasets found' %len(dataset_paths))"
   ]
  },
  {
   "cell_type": "code",
   "execution_count": 3,
   "metadata": {
    "collapsed": true
   },
   "outputs": [],
   "source": [
    "for path in dataset_paths:\n",
    "    import_csv(path)"
   ]
  },
  {
   "cell_type": "code",
   "execution_count": 4,
   "metadata": {
    "collapsed": true
   },
   "outputs": [],
   "source": [
    "def cursor_for_filter(path, filter):\n",
    "    con = sqlite3.connect(path.replace('.csv', '.db'))\n",
    "    c = con.cursor()\n",
    "    c.execute(filter)\n",
    "    return c"
   ]
  },
  {
   "cell_type": "code",
   "execution_count": 14,
   "metadata": {
    "collapsed": true
   },
   "outputs": [],
   "source": [
    "accumulator = 0;\n",
    "count = 0;"
   ]
  },
  {
   "cell_type": "code",
   "execution_count": 15,
   "metadata": {
    "collapsed": false
   },
   "outputs": [
    {
     "ename": "SyntaxError",
     "evalue": "invalid syntax (<ipython-input-15-97dbe317af25>, line 2)",
     "output_type": "error",
     "traceback": [
      "\u001b[0;36m  File \u001b[0;32m\"<ipython-input-15-97dbe317af25>\"\u001b[0;36m, line \u001b[0;32m2\u001b[0m\n\u001b[0;31m    global accumulator = 0;\u001b[0m\n\u001b[0m                       ^\u001b[0m\n\u001b[0;31mSyntaxError\u001b[0m\u001b[0;31m:\u001b[0m invalid syntax\n"
     ]
    }
   ],
   "source": [
    "def reset_gvars():\n",
    "    global accumulator\n",
    "    accumulator = 0;\n",
    "    global count\n",
    "    = 0;"
   ]
  },
  {
   "cell_type": "code",
   "execution_count": 11,
   "metadata": {
    "collapsed": false
   },
   "outputs": [
    {
     "name": "stdout",
     "output_type": "stream",
     "text": [
      "./op1.csv\n",
      "-2.599\n",
      "-18.21\n",
      "-15.218\n",
      "3.105\n",
      "-0.272\n",
      "-2.586\n",
      "2.54\n",
      "-10.616\n",
      "-15.743\n",
      "-2.958\n",
      "./op2.csv\n",
      "-5.528\n",
      "1.566\n",
      "-3.805\n",
      "5.464\n",
      "6.756\n",
      "-9.071\n",
      "11.635\n",
      "-11.929\n",
      "8.022\n",
      "-7.669\n",
      "grand mean is -3.355800\n"
     ]
    }
   ],
   "source": [
    "#calculate grand mean\n",
    "\n",
    "for path in dataset_paths:\n",
    "    print path\n",
    "    c = cursor_for_filter(path, \"\"\"SELECT result FROM data\"\"\")\n",
    "    for value in c.fetchall():\n",
    "        print value[0]\n",
    "        accumulator += value[0]\n",
    "        count += 1\n",
    "\n",
    "gm = accumulator / count\n",
    "print ('grand mean is %f' %gm)"
   ]
  },
  {
   "cell_type": "code",
   "execution_count": 13,
   "metadata": {
    "collapsed": false,
    "scrolled": true
   },
   "outputs": [
    {
     "name": "stdout",
     "output_type": "stream",
     "text": [
      "80\n",
      "-2.599\n",
      "-18.21\n",
      "-15.218\n",
      "3.105\n",
      "-0.272\n",
      "-2.586\n",
      "2.54\n",
      "-10.616\n",
      "-15.743\n",
      "-2.958\n",
      "op mean is -3.678011\n",
      "90\n",
      "-5.528\n",
      "1.566\n",
      "-3.805\n",
      "5.464\n",
      "6.756\n",
      "-9.071\n",
      "11.635\n",
      "-11.929\n",
      "8.022\n",
      "-7.669\n",
      "op mean is -3.355800\n"
     ]
    }
   ],
   "source": [
    "#calculate same OP means\n",
    "reset_gvars()\n",
    "opm = []\n",
    "\n",
    "for idx, path in enumerate(dataset_paths):\n",
    "    print count\n",
    "    c = cursor_for_filter(path, \"\"\"SELECT result FROM data\"\"\")\n",
    "\n",
    "    for value in c.fetchall():\n",
    "        print value[0]\n",
    "        accumulator += value[0]\n",
    "        count += 1\n",
    "\n",
    "    opm.append(accumulator / count) \n",
    "    print ('op mean is %f' %opm[-1])\n",
    "    reset_gvars()"
   ]
  },
  {
   "cell_type": "code",
   "execution_count": 9,
   "metadata": {
    "collapsed": true
   },
   "outputs": [],
   "source": [
    "#define interface at this step"
   ]
  },
  {
   "cell_type": "code",
   "execution_count": null,
   "metadata": {
    "collapsed": true
   },
   "outputs": [],
   "source": []
  }
 ],
 "metadata": {
  "kernelspec": {
   "display_name": "Python 2",
   "language": "python",
   "name": "python2"
  },
  "language_info": {
   "codemirror_mode": {
    "name": "ipython",
    "version": 2
   },
   "file_extension": ".py",
   "mimetype": "text/x-python",
   "name": "python",
   "nbconvert_exporter": "python",
   "pygments_lexer": "ipython2",
   "version": "2.7.10"
  }
 },
 "nbformat": 4,
 "nbformat_minor": 0
}
